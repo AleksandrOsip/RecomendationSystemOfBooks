{
  "cells": [
    {
      "cell_type": "markdown",
      "metadata": {},
      "source": [
        "# <center> Разбор кейса ML-инженера"
      ]
    },
    {
      "cell_type": "markdown",
      "metadata": {
        "id": "Zf52Pxm2hiom"
      },
      "source": [
        "## Обучим и протестируем модель"
      ]
    },
    {
      "cell_type": "code",
      "execution_count": 1,
      "metadata": {
        "colab": {
          "base_uri": "https://localhost:8080/"
        },
        "id": "wEgni61ptDR7",
        "outputId": "4d9d62cf-6edf-4003-895e-3c833a2b5518"
      },
      "outputs": [],
      "source": [
        "#!pip install lightfm"
      ]
    },
    {
      "cell_type": "code",
      "execution_count": 2,
      "metadata": {
        "id": "O3C_SMz6hiot"
      },
      "outputs": [],
      "source": [
        "import pandas as pd\n",
        "import scipy.sparse as sparse\n",
        "from lightfm import LightFM\n",
        "from lightfm.cross_validation import random_train_test_split\n",
        "from lightfm.evaluation import precision_at_k, recall_at_k\n",
        "import pickle"
      ]
    },
    {
      "cell_type": "code",
      "execution_count": 3,
      "metadata": {
        "colab": {
          "base_uri": "https://localhost:8080/",
          "height": 380
        },
        "id": "qfCOflZnhiou",
        "outputId": "aa55bacd-ccab-45c0-e483-ef59d2698d94"
      },
      "outputs": [],
      "source": [
        "ratings = pd.read_csv('data/ratings.csv.zip')\n",
        "books = pd.read_csv('data/books.csv.zip')\n",
        "tags = pd.read_csv('data/tags.csv.zip')\n",
        "book_tags = pd.read_csv('data/book_tags.csv.zip')"
      ]
    },
    {
      "cell_type": "code",
      "execution_count": 4,
      "metadata": {
        "id": "u1TBykVuhiov"
      },
      "outputs": [
        {
          "data": {
            "text/html": [
              "<div>\n",
              "<style scoped>\n",
              "    .dataframe tbody tr th:only-of-type {\n",
              "        vertical-align: middle;\n",
              "    }\n",
              "\n",
              "    .dataframe tbody tr th {\n",
              "        vertical-align: top;\n",
              "    }\n",
              "\n",
              "    .dataframe thead th {\n",
              "        text-align: right;\n",
              "    }\n",
              "</style>\n",
              "<table border=\"1\" class=\"dataframe\">\n",
              "  <thead>\n",
              "    <tr style=\"text-align: right;\">\n",
              "      <th></th>\n",
              "      <th>book_id</th>\n",
              "      <th>goodreads_book_id</th>\n",
              "      <th>best_book_id</th>\n",
              "      <th>work_id</th>\n",
              "      <th>books_count</th>\n",
              "      <th>isbn</th>\n",
              "      <th>isbn13</th>\n",
              "      <th>authors</th>\n",
              "      <th>original_publication_year</th>\n",
              "      <th>original_title</th>\n",
              "      <th>...</th>\n",
              "      <th>ratings_count</th>\n",
              "      <th>work_ratings_count</th>\n",
              "      <th>work_text_reviews_count</th>\n",
              "      <th>ratings_1</th>\n",
              "      <th>ratings_2</th>\n",
              "      <th>ratings_3</th>\n",
              "      <th>ratings_4</th>\n",
              "      <th>ratings_5</th>\n",
              "      <th>image_url</th>\n",
              "      <th>small_image_url</th>\n",
              "    </tr>\n",
              "  </thead>\n",
              "  <tbody>\n",
              "    <tr>\n",
              "      <th>0</th>\n",
              "      <td>1</td>\n",
              "      <td>2767052</td>\n",
              "      <td>2767052</td>\n",
              "      <td>2792775</td>\n",
              "      <td>272</td>\n",
              "      <td>439023483</td>\n",
              "      <td>9.780439e+12</td>\n",
              "      <td>Suzanne Collins</td>\n",
              "      <td>2008.0</td>\n",
              "      <td>The Hunger Games</td>\n",
              "      <td>...</td>\n",
              "      <td>4780653</td>\n",
              "      <td>4942365</td>\n",
              "      <td>155254</td>\n",
              "      <td>66715</td>\n",
              "      <td>127936</td>\n",
              "      <td>560092</td>\n",
              "      <td>1481305</td>\n",
              "      <td>2706317</td>\n",
              "      <td>https://images.gr-assets.com/books/1447303603m...</td>\n",
              "      <td>https://images.gr-assets.com/books/1447303603s...</td>\n",
              "    </tr>\n",
              "    <tr>\n",
              "      <th>1</th>\n",
              "      <td>2</td>\n",
              "      <td>3</td>\n",
              "      <td>3</td>\n",
              "      <td>4640799</td>\n",
              "      <td>491</td>\n",
              "      <td>439554934</td>\n",
              "      <td>9.780440e+12</td>\n",
              "      <td>J.K. Rowling, Mary GrandPré</td>\n",
              "      <td>1997.0</td>\n",
              "      <td>Harry Potter and the Philosopher's Stone</td>\n",
              "      <td>...</td>\n",
              "      <td>4602479</td>\n",
              "      <td>4800065</td>\n",
              "      <td>75867</td>\n",
              "      <td>75504</td>\n",
              "      <td>101676</td>\n",
              "      <td>455024</td>\n",
              "      <td>1156318</td>\n",
              "      <td>3011543</td>\n",
              "      <td>https://images.gr-assets.com/books/1474154022m...</td>\n",
              "      <td>https://images.gr-assets.com/books/1474154022s...</td>\n",
              "    </tr>\n",
              "    <tr>\n",
              "      <th>2</th>\n",
              "      <td>3</td>\n",
              "      <td>41865</td>\n",
              "      <td>41865</td>\n",
              "      <td>3212258</td>\n",
              "      <td>226</td>\n",
              "      <td>316015849</td>\n",
              "      <td>9.780316e+12</td>\n",
              "      <td>Stephenie Meyer</td>\n",
              "      <td>2005.0</td>\n",
              "      <td>Twilight</td>\n",
              "      <td>...</td>\n",
              "      <td>3866839</td>\n",
              "      <td>3916824</td>\n",
              "      <td>95009</td>\n",
              "      <td>456191</td>\n",
              "      <td>436802</td>\n",
              "      <td>793319</td>\n",
              "      <td>875073</td>\n",
              "      <td>1355439</td>\n",
              "      <td>https://images.gr-assets.com/books/1361039443m...</td>\n",
              "      <td>https://images.gr-assets.com/books/1361039443s...</td>\n",
              "    </tr>\n",
              "    <tr>\n",
              "      <th>3</th>\n",
              "      <td>4</td>\n",
              "      <td>2657</td>\n",
              "      <td>2657</td>\n",
              "      <td>3275794</td>\n",
              "      <td>487</td>\n",
              "      <td>61120081</td>\n",
              "      <td>9.780061e+12</td>\n",
              "      <td>Harper Lee</td>\n",
              "      <td>1960.0</td>\n",
              "      <td>To Kill a Mockingbird</td>\n",
              "      <td>...</td>\n",
              "      <td>3198671</td>\n",
              "      <td>3340896</td>\n",
              "      <td>72586</td>\n",
              "      <td>60427</td>\n",
              "      <td>117415</td>\n",
              "      <td>446835</td>\n",
              "      <td>1001952</td>\n",
              "      <td>1714267</td>\n",
              "      <td>https://images.gr-assets.com/books/1361975680m...</td>\n",
              "      <td>https://images.gr-assets.com/books/1361975680s...</td>\n",
              "    </tr>\n",
              "    <tr>\n",
              "      <th>4</th>\n",
              "      <td>5</td>\n",
              "      <td>4671</td>\n",
              "      <td>4671</td>\n",
              "      <td>245494</td>\n",
              "      <td>1356</td>\n",
              "      <td>743273567</td>\n",
              "      <td>9.780743e+12</td>\n",
              "      <td>F. Scott Fitzgerald</td>\n",
              "      <td>1925.0</td>\n",
              "      <td>The Great Gatsby</td>\n",
              "      <td>...</td>\n",
              "      <td>2683664</td>\n",
              "      <td>2773745</td>\n",
              "      <td>51992</td>\n",
              "      <td>86236</td>\n",
              "      <td>197621</td>\n",
              "      <td>606158</td>\n",
              "      <td>936012</td>\n",
              "      <td>947718</td>\n",
              "      <td>https://images.gr-assets.com/books/1490528560m...</td>\n",
              "      <td>https://images.gr-assets.com/books/1490528560s...</td>\n",
              "    </tr>\n",
              "  </tbody>\n",
              "</table>\n",
              "<p>5 rows × 23 columns</p>\n",
              "</div>"
            ],
            "text/plain": [
              "   book_id  goodreads_book_id  best_book_id  work_id  books_count       isbn  \\\n",
              "0        1            2767052       2767052  2792775          272  439023483   \n",
              "1        2                  3             3  4640799          491  439554934   \n",
              "2        3              41865         41865  3212258          226  316015849   \n",
              "3        4               2657          2657  3275794          487   61120081   \n",
              "4        5               4671          4671   245494         1356  743273567   \n",
              "\n",
              "         isbn13                      authors  original_publication_year  \\\n",
              "0  9.780439e+12              Suzanne Collins                     2008.0   \n",
              "1  9.780440e+12  J.K. Rowling, Mary GrandPré                     1997.0   \n",
              "2  9.780316e+12              Stephenie Meyer                     2005.0   \n",
              "3  9.780061e+12                   Harper Lee                     1960.0   \n",
              "4  9.780743e+12          F. Scott Fitzgerald                     1925.0   \n",
              "\n",
              "                             original_title  ... ratings_count  \\\n",
              "0                          The Hunger Games  ...       4780653   \n",
              "1  Harry Potter and the Philosopher's Stone  ...       4602479   \n",
              "2                                  Twilight  ...       3866839   \n",
              "3                     To Kill a Mockingbird  ...       3198671   \n",
              "4                          The Great Gatsby  ...       2683664   \n",
              "\n",
              "  work_ratings_count  work_text_reviews_count  ratings_1  ratings_2  \\\n",
              "0            4942365                   155254      66715     127936   \n",
              "1            4800065                    75867      75504     101676   \n",
              "2            3916824                    95009     456191     436802   \n",
              "3            3340896                    72586      60427     117415   \n",
              "4            2773745                    51992      86236     197621   \n",
              "\n",
              "   ratings_3  ratings_4  ratings_5  \\\n",
              "0     560092    1481305    2706317   \n",
              "1     455024    1156318    3011543   \n",
              "2     793319     875073    1355439   \n",
              "3     446835    1001952    1714267   \n",
              "4     606158     936012     947718   \n",
              "\n",
              "                                           image_url  \\\n",
              "0  https://images.gr-assets.com/books/1447303603m...   \n",
              "1  https://images.gr-assets.com/books/1474154022m...   \n",
              "2  https://images.gr-assets.com/books/1361039443m...   \n",
              "3  https://images.gr-assets.com/books/1361975680m...   \n",
              "4  https://images.gr-assets.com/books/1490528560m...   \n",
              "\n",
              "                                     small_image_url  \n",
              "0  https://images.gr-assets.com/books/1447303603s...  \n",
              "1  https://images.gr-assets.com/books/1474154022s...  \n",
              "2  https://images.gr-assets.com/books/1361039443s...  \n",
              "3  https://images.gr-assets.com/books/1361975680s...  \n",
              "4  https://images.gr-assets.com/books/1490528560s...  \n",
              "\n",
              "[5 rows x 23 columns]"
            ]
          },
          "execution_count": 4,
          "metadata": {},
          "output_type": "execute_result"
        }
      ],
      "source": [
        "books.head()"
      ]
    },
    {
      "cell_type": "code",
      "execution_count": 5,
      "metadata": {
        "id": "WVIwztA5hiov"
      },
      "outputs": [],
      "source": [
        "mapper = dict(zip(books.goodreads_book_id, books.book_id))"
      ]
    },
    {
      "cell_type": "code",
      "execution_count": 6,
      "metadata": {
        "id": "CxVDaPkKhiow"
      },
      "outputs": [],
      "source": [
        "tags = pd.read_csv('data/tags_cleaned.csv.zip')\n",
        "book_tags = book_tags[book_tags.tag_id.isin(tags.tag_id)]\n",
        "book_tags['id'] = book_tags.goodreads_book_id.apply(lambda x: mapper[x])"
      ]
    },
    {
      "cell_type": "code",
      "execution_count": 7,
      "metadata": {
        "id": "wd_WvCLDhiow"
      },
      "outputs": [
        {
          "data": {
            "text/html": [
              "<div>\n",
              "<style scoped>\n",
              "    .dataframe tbody tr th:only-of-type {\n",
              "        vertical-align: middle;\n",
              "    }\n",
              "\n",
              "    .dataframe tbody tr th {\n",
              "        vertical-align: top;\n",
              "    }\n",
              "\n",
              "    .dataframe thead th {\n",
              "        text-align: right;\n",
              "    }\n",
              "</style>\n",
              "<table border=\"1\" class=\"dataframe\">\n",
              "  <thead>\n",
              "    <tr style=\"text-align: right;\">\n",
              "      <th></th>\n",
              "      <th>goodreads_book_id</th>\n",
              "      <th>tag_id</th>\n",
              "      <th>count</th>\n",
              "      <th>id</th>\n",
              "    </tr>\n",
              "  </thead>\n",
              "  <tbody>\n",
              "    <tr>\n",
              "      <th>1</th>\n",
              "      <td>1</td>\n",
              "      <td>11305</td>\n",
              "      <td>37174</td>\n",
              "      <td>27</td>\n",
              "    </tr>\n",
              "    <tr>\n",
              "      <th>4</th>\n",
              "      <td>1</td>\n",
              "      <td>33114</td>\n",
              "      <td>12716</td>\n",
              "      <td>27</td>\n",
              "    </tr>\n",
              "    <tr>\n",
              "      <th>5</th>\n",
              "      <td>1</td>\n",
              "      <td>11743</td>\n",
              "      <td>9954</td>\n",
              "      <td>27</td>\n",
              "    </tr>\n",
              "    <tr>\n",
              "      <th>6</th>\n",
              "      <td>1</td>\n",
              "      <td>14017</td>\n",
              "      <td>7169</td>\n",
              "      <td>27</td>\n",
              "    </tr>\n",
              "    <tr>\n",
              "      <th>10</th>\n",
              "      <td>1</td>\n",
              "      <td>27199</td>\n",
              "      <td>3857</td>\n",
              "      <td>27</td>\n",
              "    </tr>\n",
              "  </tbody>\n",
              "</table>\n",
              "</div>"
            ],
            "text/plain": [
              "    goodreads_book_id  tag_id  count  id\n",
              "1                   1   11305  37174  27\n",
              "4                   1   33114  12716  27\n",
              "5                   1   11743   9954  27\n",
              "6                   1   14017   7169  27\n",
              "10                  1   27199   3857  27"
            ]
          },
          "execution_count": 7,
          "metadata": {},
          "output_type": "execute_result"
        }
      ],
      "source": [
        "book_tags.head()"
      ]
    },
    {
      "cell_type": "code",
      "execution_count": 8,
      "metadata": {
        "id": "3piw5iXUhiox"
      },
      "outputs": [],
      "source": [
        "ratings_coo = sparse.coo_matrix((ratings.rating,(ratings.user_id, ratings.book_id)))\n",
        "feature_ratings  = sparse.coo_matrix(([1]*len(book_tags), (book_tags.id, book_tags.tag_id)))"
      ]
    },
    {
      "cell_type": "markdown",
      "metadata": {
        "id": "fp7ydLG-hiox"
      },
      "source": [
        "Объявим вспомогательные константы для обучения модели:"
      ]
    },
    {
      "cell_type": "code",
      "execution_count": 9,
      "metadata": {
        "id": "L3bS12rOhioy"
      },
      "outputs": [],
      "source": [
        "#число потоков нашего процессора\n",
        "NUM_THREADS = 4\n",
        "#число параметров вектора \n",
        "NUM_COMPONENTS = 60\n",
        "#число эпох обучения\n",
        "NUM_EPOCHS = 10 \n",
        "#зерно датчика случайных чисел\n",
        "RANDOM_STATE = 42"
      ]
    },
    {
      "cell_type": "markdown",
      "metadata": {
        "id": "t-1_C-UZhioy"
      },
      "source": [
        "На этапе создания модели мы используем библиотеку LightFM, чтобы сделать матричное разложение (ALS) наших рейтингов книг и получить два набора векторов. "
      ]
    },
    {
      "cell_type": "code",
      "execution_count": 10,
      "metadata": {
        "id": "YGxL87INhioz"
      },
      "outputs": [],
      "source": [
        "# %%time\n",
        "# #Разбиваем наш датасет на обучающую и тестовую выборки\n",
        "# train, test = random_train_test_split(ratings_coo, test_percentage=0.2, random_state=RANDOM_STATE)\n",
        "\n",
        "# #Создаём модель\n",
        "# model = LightFM(\n",
        "#                 learning_rate=0.05, #темп (скорость) обучения\n",
        "#                 loss='warp', #loss-функция\n",
        "#                 no_components=NUM_COMPONENTS,#размерность вектора признаков\n",
        "#                 random_state=RANDOM_STATE #генератор случайных чисел\n",
        "#                 )\n",
        "\n",
        "# #Обучаем модель\n",
        "# model = model.fit(\n",
        "#                   train, #обучающая выборка\n",
        "#                   epochs=NUM_EPOCHS, #количество эпох обучения\n",
        "#                   num_threads=NUM_THREADS, #количество потоков процессора\n",
        "#                   item_features=feature_ratings #признаки товаров (рейтинги книг)\n",
        "#                   )"
      ]
    },
    {
      "cell_type": "markdown",
      "metadata": {
        "id": "AMupb7Schio0"
      },
      "source": [
        "Протестируем модель"
      ]
    },
    {
      "cell_type": "code",
      "execution_count": 11,
      "metadata": {
        "id": "6U1waVUshio0"
      },
      "outputs": [],
      "source": [
        "# %%time\n",
        "# #Тестируем нашу модель\n",
        "# precision_score = precision_at_k(\n",
        "#                                  model, #модель\n",
        "#                                  test, #тестовая выборка\n",
        "#                                  num_threads=NUM_THREADS, #количество потоков процессора\n",
        "#                                  k=10, #количество предложений\n",
        "#                                  item_features=feature_ratings #признаки товаров\n",
        "#                                  ).mean() #усредняем результаты\n",
        " \n",
        "# recall_score = recall_at_k(\n",
        "#                            model, #модель\n",
        "#                            test, #тестовая выборка\n",
        "#                            num_threads=NUM_THREADS, #количество потоков процессора\n",
        "#                            k=10, #количество предложений\n",
        "#                            item_features=feature_ratings #признаки товаров\n",
        "#                            ).mean() #усредняем результаты\n",
        "\n",
        "# print(recall_score, precision_score)"
      ]
    },
    {
      "cell_type": "markdown",
      "metadata": {
        "id": "MZUskAXXhio1"
      },
      "source": [
        "Сохраним модель"
      ]
    },
    {
      "cell_type": "code",
      "execution_count": 12,
      "metadata": {
        "id": "k_uaCAe6hio1"
      },
      "outputs": [],
      "source": [
        "# with open('model.pkl', 'wb') as file:\n",
        "#     pickle.dump(model, file, protocol=pickle.HIGHEST_PROTOCOL)"
      ]
    },
    {
      "cell_type": "markdown",
      "metadata": {
        "id": "30o9Rtgyhio2"
      },
      "source": [
        "## Добавим эмбеддинги к модели и посмотрим, что получилось"
      ]
    },
    {
      "cell_type": "code",
      "execution_count": 13,
      "metadata": {
        "id": "LqsUKn57hio2"
      },
      "outputs": [],
      "source": [
        "with open('model.pkl', 'rb') as file:\n",
        "    model = pickle.load(file)"
      ]
    },
    {
      "cell_type": "code",
      "execution_count": 14,
      "metadata": {
        "id": "xQyl1ymbhio2"
      },
      "outputs": [
        {
          "name": "stdout",
          "output_type": "stream",
          "text": [
            "(10001,) (10001, 60)\n"
          ]
        }
      ],
      "source": [
        "# Достаём эбмеддинги\n",
        "item_biases, item_embeddings = model.get_item_representations(features=feature_ratings)\n",
        "\n",
        "print(item_biases.shape, item_embeddings.shape)"
      ]
    },
    {
      "cell_type": "code",
      "execution_count": 15,
      "metadata": {},
      "outputs": [
        {
          "data": {
            "text/plain": [
              "array([0.        , 4.840424  , 4.7281427 , ..., 0.4853786 , 1.1874219 ,\n",
              "       0.01927405], dtype=float32)"
            ]
          },
          "execution_count": 15,
          "metadata": {},
          "output_type": "execute_result"
        }
      ],
      "source": [
        "item_biases"
      ]
    },
    {
      "cell_type": "code",
      "execution_count": 16,
      "metadata": {},
      "outputs": [
        {
          "data": {
            "text/plain": [
              "array([[ 0.        ,  0.        ,  0.        , ...,  0.        ,\n",
              "         0.        ,  0.        ],\n",
              "       [-1.3588437 , -0.39306548, -0.4481972 , ...,  1.3005738 ,\n",
              "         0.78044146, -0.06962232],\n",
              "       [-1.7334272 , -0.21814057, -0.9686587 , ...,  1.3776436 ,\n",
              "         0.2857782 ,  0.06638955],\n",
              "       ...,\n",
              "       [-0.81708235, -0.25210136,  0.19621253, ...,  1.3499578 ,\n",
              "         0.35253292, -0.06085279],\n",
              "       [-0.59409636, -0.02994887, -1.0355613 , ...,  1.6425117 ,\n",
              "         0.21685681,  0.03149126],\n",
              "       [-0.4253026 ,  0.0124193 , -0.18086599, ...,  0.98617804,\n",
              "         0.6333476 , -0.02541547]], dtype=float32)"
            ]
          },
          "execution_count": 16,
          "metadata": {},
          "output_type": "execute_result"
        }
      ],
      "source": [
        "item_embeddings"
      ]
    },
    {
      "cell_type": "code",
      "execution_count": 17,
      "metadata": {},
      "outputs": [],
      "source": [
        "#!pip install nmslib"
      ]
    },
    {
      "cell_type": "code",
      "execution_count": 18,
      "metadata": {
        "id": "bi1DHdBKhio3"
      },
      "outputs": [],
      "source": [
        "import nmslib"
      ]
    },
    {
      "cell_type": "code",
      "execution_count": 19,
      "metadata": {
        "id": "NscQUR47hio3"
      },
      "outputs": [
        {
          "name": "stderr",
          "output_type": "stream",
          "text": [
            "\n",
            "0%   10   20   30   40   50   60   70   80   90   100%\n",
            "|----|----|----|----|----|----|----|----|----|----|\n",
            "***************************************************\n"
          ]
        }
      ],
      "source": [
        "#Инициализируем наш граф для поиска\n",
        "nms_idx = nmslib.init(method='hnsw', space='cosinesimil')\n",
        " \n",
        "#Начинаем добавлять наши книги в граф\n",
        "nms_idx.addDataPointBatch(item_embeddings)\n",
        "nms_idx.createIndex(print_progress=True)"
      ]
    },
    {
      "cell_type": "code",
      "execution_count": 20,
      "metadata": {
        "id": "tCtnO4s9hio3"
      },
      "outputs": [],
      "source": [
        "#Вспомогательная функция для поиска по графу\n",
        "def nearest_books_nms(book_id, index, n=10):\n",
        "    nn = index.knnQuery(item_embeddings[book_id], k=n)\n",
        "    return nn"
      ]
    },
    {
      "cell_type": "markdown",
      "metadata": {
        "id": "1PMM_uHfhio4"
      },
      "source": [
        "Найдем id книги 1984"
      ]
    },
    {
      "cell_type": "code",
      "execution_count": 21,
      "metadata": {
        "id": "Da3eHj7chio5"
      },
      "outputs": [
        {
          "data": {
            "text/html": [
              "<div>\n",
              "<style scoped>\n",
              "    .dataframe tbody tr th:only-of-type {\n",
              "        vertical-align: middle;\n",
              "    }\n",
              "\n",
              "    .dataframe tbody tr th {\n",
              "        vertical-align: top;\n",
              "    }\n",
              "\n",
              "    .dataframe thead th {\n",
              "        text-align: right;\n",
              "    }\n",
              "</style>\n",
              "<table border=\"1\" class=\"dataframe\">\n",
              "  <thead>\n",
              "    <tr style=\"text-align: right;\">\n",
              "      <th></th>\n",
              "      <th>book_id</th>\n",
              "      <th>title</th>\n",
              "    </tr>\n",
              "  </thead>\n",
              "  <tbody>\n",
              "    <tr>\n",
              "      <th>12</th>\n",
              "      <td>13</td>\n",
              "      <td>1984</td>\n",
              "    </tr>\n",
              "    <tr>\n",
              "      <th>845</th>\n",
              "      <td>846</td>\n",
              "      <td>Animal Farm / 1984</td>\n",
              "    </tr>\n",
              "    <tr>\n",
              "      <th>9795</th>\n",
              "      <td>9796</td>\n",
              "      <td>A Kiss for Little Bear (An I Can Read Book) by...</td>\n",
              "    </tr>\n",
              "  </tbody>\n",
              "</table>\n",
              "</div>"
            ],
            "text/plain": [
              "      book_id                                              title\n",
              "12         13                                               1984\n",
              "845       846                                 Animal Farm / 1984\n",
              "9795     9796  A Kiss for Little Bear (An I Can Read Book) by..."
            ]
          },
          "execution_count": 21,
          "metadata": {},
          "output_type": "execute_result"
        }
      ],
      "source": [
        "#Отфильтруем только те, где в названии встречается подстрока \"1984\"\n",
        "books[['book_id', 'title']][books['title'].apply(lambda x: x.lower().find('1984')) >= 0]"
      ]
    },
    {
      "cell_type": "code",
      "execution_count": 22,
      "metadata": {},
      "outputs": [
        {
          "data": {
            "text/html": [
              "<div>\n",
              "<style scoped>\n",
              "    .dataframe tbody tr th:only-of-type {\n",
              "        vertical-align: middle;\n",
              "    }\n",
              "\n",
              "    .dataframe tbody tr th {\n",
              "        vertical-align: top;\n",
              "    }\n",
              "\n",
              "    .dataframe thead th {\n",
              "        text-align: right;\n",
              "    }\n",
              "</style>\n",
              "<table border=\"1\" class=\"dataframe\">\n",
              "  <thead>\n",
              "    <tr style=\"text-align: right;\">\n",
              "      <th></th>\n",
              "      <th>book_id</th>\n",
              "      <th>title</th>\n",
              "    </tr>\n",
              "  </thead>\n",
              "  <tbody>\n",
              "    <tr>\n",
              "      <th>13</th>\n",
              "      <td>14</td>\n",
              "      <td>Animal Farm</td>\n",
              "    </tr>\n",
              "    <tr>\n",
              "      <th>845</th>\n",
              "      <td>846</td>\n",
              "      <td>Animal Farm / 1984</td>\n",
              "    </tr>\n",
              "    <tr>\n",
              "      <th>1020</th>\n",
              "      <td>1021</td>\n",
              "      <td>Animal, Vegetable, Miracle: A Year of Food Life</td>\n",
              "    </tr>\n",
              "    <tr>\n",
              "      <th>1751</th>\n",
              "      <td>1752</td>\n",
              "      <td>Animal Dreams</td>\n",
              "    </tr>\n",
              "    <tr>\n",
              "      <th>2289</th>\n",
              "      <td>2290</td>\n",
              "      <td>Eating Animals</td>\n",
              "    </tr>\n",
              "    <tr>\n",
              "      <th>4637</th>\n",
              "      <td>4638</td>\n",
              "      <td>My Family and Other Animals (Corfu Trilogy, #1)</td>\n",
              "    </tr>\n",
              "    <tr>\n",
              "      <th>5397</th>\n",
              "      <td>5398</td>\n",
              "      <td>Fables, Vol. 2: Animal Farm</td>\n",
              "    </tr>\n",
              "    <tr>\n",
              "      <th>5417</th>\n",
              "      <td>5418</td>\n",
              "      <td>The Social Animal: The Hidden Sources of Love,...</td>\n",
              "    </tr>\n",
              "    <tr>\n",
              "      <th>5764</th>\n",
              "      <td>5765</td>\n",
              "      <td>The Third Chimpanzee: The Evolution and Future...</td>\n",
              "    </tr>\n",
              "    <tr>\n",
              "      <th>6701</th>\n",
              "      <td>6702</td>\n",
              "      <td>Animalia</td>\n",
              "    </tr>\n",
              "    <tr>\n",
              "      <th>8913</th>\n",
              "      <td>8914</td>\n",
              "      <td>We the Animals</td>\n",
              "    </tr>\n",
              "    <tr>\n",
              "      <th>9825</th>\n",
              "      <td>9826</td>\n",
              "      <td>Animal-Speak: The Spiritual &amp; Magical Powers o...</td>\n",
              "    </tr>\n",
              "  </tbody>\n",
              "</table>\n",
              "</div>"
            ],
            "text/plain": [
              "      book_id                                              title\n",
              "13         14                                        Animal Farm\n",
              "845       846                                 Animal Farm / 1984\n",
              "1020     1021    Animal, Vegetable, Miracle: A Year of Food Life\n",
              "1751     1752                                      Animal Dreams\n",
              "2289     2290                                     Eating Animals\n",
              "4637     4638    My Family and Other Animals (Corfu Trilogy, #1)\n",
              "5397     5398                        Fables, Vol. 2: Animal Farm\n",
              "5417     5418  The Social Animal: The Hidden Sources of Love,...\n",
              "5764     5765  The Third Chimpanzee: The Evolution and Future...\n",
              "6701     6702                                           Animalia\n",
              "8913     8914                                     We the Animals\n",
              "9825     9826  Animal-Speak: The Spiritual & Magical Powers o..."
            ]
          },
          "execution_count": 22,
          "metadata": {},
          "output_type": "execute_result"
        }
      ],
      "source": [
        "#Отфильтруем только те, где в названии встречается подстрока \"animal\"\n",
        "books[['book_id', 'title']][books['title'].apply(lambda x: x.lower().find('animal')) >= 0]"
      ]
    },
    {
      "cell_type": "code",
      "execution_count": 23,
      "metadata": {},
      "outputs": [
        {
          "data": {
            "text/plain": [
              "845    Animal Farm / 1984\n",
              "Name: title, dtype: object"
            ]
          },
          "execution_count": 23,
          "metadata": {},
          "output_type": "execute_result"
        }
      ],
      "source": [
        "books['title'][books['book_id']==846]"
      ]
    },
    {
      "cell_type": "code",
      "execution_count": 24,
      "metadata": {},
      "outputs": [
        {
          "data": {
            "text/plain": [
              "6701    Animalia\n",
              "Name: title, dtype: object"
            ]
          },
          "execution_count": 24,
          "metadata": {},
          "output_type": "execute_result"
        }
      ],
      "source": [
        "books['title'][books['book_id']==6702]"
      ]
    },
    {
      "cell_type": "markdown",
      "metadata": {
        "id": "2hxEWTJghio5"
      },
      "source": [
        "Теперь найдем все похожие книги и посмотрим на них"
      ]
    },
    {
      "cell_type": "code",
      "execution_count": 25,
      "metadata": {},
      "outputs": [
        {
          "name": "stdout",
          "output_type": "stream",
          "text": [
            "(array([ 846,   55,   14,  809,   48,   13,  903,  173,  271, 8140],\n",
            "      dtype=int32), array([0.        , 0.03338528, 0.04415029, 0.05182219, 0.05777216,\n",
            "       0.0650335 , 0.0756126 , 0.07580829, 0.0850451 , 0.09076774],\n",
            "      dtype=float32))\n",
            "(array([6702,  102, 3698,   50,  278,  888, 6724, 3047, 5071, 3274],\n",
            "      dtype=int32), array([0.        , 0.05087888, 0.05495286, 0.05724448, 0.06035101,\n",
            "       0.06153738, 0.06178409, 0.06611544, 0.06732404, 0.06790745],\n",
            "      dtype=float32))\n"
          ]
        }
      ],
      "source": [
        "#Вызываем функцию для поиска ближайших соседей\n",
        "print(nearest_books_nms(846, nms_idx))\n",
        "print(nearest_books_nms(6702, nms_idx))"
      ]
    },
    {
      "cell_type": "code",
      "execution_count": 26,
      "metadata": {
        "id": "vaVVOV9Whio6"
      },
      "outputs": [
        {
          "data": {
            "text/plain": [
              "array([ 846,   55,   14,  809,   48,   13,  903,  173,  271, 8140],\n",
              "      dtype=int32)"
            ]
          },
          "execution_count": 26,
          "metadata": {},
          "output_type": "execute_result"
        }
      ],
      "source": [
        "#Выделяем идентификаторы рекомендованных книг\n",
        "nbm_1 = nearest_books_nms(846, nms_idx)[0]\n",
        "nbm_1"
      ]
    },
    {
      "cell_type": "code",
      "execution_count": 27,
      "metadata": {},
      "outputs": [
        {
          "data": {
            "text/plain": [
              "array([6702,  102, 3698,   50,  278,  888, 6724, 3047, 5071, 3274],\n",
              "      dtype=int32)"
            ]
          },
          "execution_count": 27,
          "metadata": {},
          "output_type": "execute_result"
        }
      ],
      "source": [
        "nbm_2 = nearest_books_nms(6702, nms_idx)[0]\n",
        "nbm_2"
      ]
    },
    {
      "cell_type": "code",
      "execution_count": 28,
      "metadata": {
        "id": "hTred3b8hio6"
      },
      "outputs": [
        {
          "data": {
            "text/html": [
              "<div>\n",
              "<style scoped>\n",
              "    .dataframe tbody tr th:only-of-type {\n",
              "        vertical-align: middle;\n",
              "    }\n",
              "\n",
              "    .dataframe tbody tr th {\n",
              "        vertical-align: top;\n",
              "    }\n",
              "\n",
              "    .dataframe thead th {\n",
              "        text-align: right;\n",
              "    }\n",
              "</style>\n",
              "<table border=\"1\" class=\"dataframe\">\n",
              "  <thead>\n",
              "    <tr style=\"text-align: right;\">\n",
              "      <th></th>\n",
              "      <th>authors</th>\n",
              "      <th>title</th>\n",
              "    </tr>\n",
              "  </thead>\n",
              "  <tbody>\n",
              "    <tr>\n",
              "      <th>12</th>\n",
              "      <td>George Orwell, Erich Fromm, Celâl Üster</td>\n",
              "      <td>1984</td>\n",
              "    </tr>\n",
              "    <tr>\n",
              "      <th>13</th>\n",
              "      <td>George Orwell</td>\n",
              "      <td>Animal Farm</td>\n",
              "    </tr>\n",
              "    <tr>\n",
              "      <th>47</th>\n",
              "      <td>Ray Bradbury</td>\n",
              "      <td>Fahrenheit 451</td>\n",
              "    </tr>\n",
              "    <tr>\n",
              "      <th>54</th>\n",
              "      <td>Aldous Huxley</td>\n",
              "      <td>Brave New World</td>\n",
              "    </tr>\n",
              "    <tr>\n",
              "      <th>172</th>\n",
              "      <td>Anthony Burgess</td>\n",
              "      <td>A Clockwork Orange</td>\n",
              "    </tr>\n",
              "    <tr>\n",
              "      <th>270</th>\n",
              "      <td>Daniel Keyes</td>\n",
              "      <td>Flowers for Algernon</td>\n",
              "    </tr>\n",
              "    <tr>\n",
              "      <th>808</th>\n",
              "      <td>Aldous Huxley, Christopher Hitchens</td>\n",
              "      <td>Brave New World / Brave New World Revisited</td>\n",
              "    </tr>\n",
              "    <tr>\n",
              "      <th>845</th>\n",
              "      <td>George Orwell, Christopher Hitchens</td>\n",
              "      <td>Animal Farm / 1984</td>\n",
              "    </tr>\n",
              "    <tr>\n",
              "      <th>902</th>\n",
              "      <td>Ayn Rand</td>\n",
              "      <td>Anthem</td>\n",
              "    </tr>\n",
              "    <tr>\n",
              "      <th>8139</th>\n",
              "      <td>Aldous Huxley</td>\n",
              "      <td>Brave New World Revisited</td>\n",
              "    </tr>\n",
              "  </tbody>\n",
              "</table>\n",
              "</div>"
            ],
            "text/plain": [
              "                                      authors  \\\n",
              "12    George Orwell, Erich Fromm, Celâl Üster   \n",
              "13                              George Orwell   \n",
              "47                               Ray Bradbury   \n",
              "54                              Aldous Huxley   \n",
              "172                           Anthony Burgess   \n",
              "270                              Daniel Keyes   \n",
              "808       Aldous Huxley, Christopher Hitchens   \n",
              "845       George Orwell, Christopher Hitchens   \n",
              "902                                  Ayn Rand   \n",
              "8139                            Aldous Huxley   \n",
              "\n",
              "                                            title  \n",
              "12                                           1984  \n",
              "13                                    Animal Farm  \n",
              "47                                 Fahrenheit 451  \n",
              "54                                Brave New World  \n",
              "172                            A Clockwork Orange  \n",
              "270                          Flowers for Algernon  \n",
              "808   Brave New World / Brave New World Revisited  \n",
              "845                            Animal Farm / 1984  \n",
              "902                                        Anthem  \n",
              "8139                   Brave New World Revisited   "
            ]
          },
          "execution_count": 28,
          "metadata": {},
          "output_type": "execute_result"
        }
      ],
      "source": [
        "#Посмотрим на авторов и названия рекомендованных книг\n",
        "books[books.book_id.isin(nbm_1)][['authors', 'title']]"
      ]
    },
    {
      "cell_type": "code",
      "execution_count": 29,
      "metadata": {},
      "outputs": [
        {
          "data": {
            "text/html": [
              "<div>\n",
              "<style scoped>\n",
              "    .dataframe tbody tr th:only-of-type {\n",
              "        vertical-align: middle;\n",
              "    }\n",
              "\n",
              "    .dataframe tbody tr th {\n",
              "        vertical-align: top;\n",
              "    }\n",
              "\n",
              "    .dataframe thead th {\n",
              "        text-align: right;\n",
              "    }\n",
              "</style>\n",
              "<table border=\"1\" class=\"dataframe\">\n",
              "  <thead>\n",
              "    <tr style=\"text-align: right;\">\n",
              "      <th></th>\n",
              "      <th>authors</th>\n",
              "      <th>title</th>\n",
              "    </tr>\n",
              "  </thead>\n",
              "  <tbody>\n",
              "    <tr>\n",
              "      <th>49</th>\n",
              "      <td>Shel Silverstein</td>\n",
              "      <td>Where the Sidewalk Ends</td>\n",
              "    </tr>\n",
              "    <tr>\n",
              "      <th>101</th>\n",
              "      <td>Maurice Sendak</td>\n",
              "      <td>Where the Wild Things Are</td>\n",
              "    </tr>\n",
              "    <tr>\n",
              "      <th>277</th>\n",
              "      <td>Shel Silverstein</td>\n",
              "      <td>A Light in the Attic</td>\n",
              "    </tr>\n",
              "    <tr>\n",
              "      <th>887</th>\n",
              "      <td>Crockett Johnson</td>\n",
              "      <td>Harold and the Purple Crayon</td>\n",
              "    </tr>\n",
              "    <tr>\n",
              "      <th>3046</th>\n",
              "      <td>Dr. Seuss</td>\n",
              "      <td>Fox in Socks</td>\n",
              "    </tr>\n",
              "    <tr>\n",
              "      <th>3273</th>\n",
              "      <td>Dr. Seuss</td>\n",
              "      <td>Hop On Pop</td>\n",
              "    </tr>\n",
              "    <tr>\n",
              "      <th>3697</th>\n",
              "      <td>Blanche Fisher Wright</td>\n",
              "      <td>The Real Mother Goose</td>\n",
              "    </tr>\n",
              "    <tr>\n",
              "      <th>5070</th>\n",
              "      <td>Julia Donaldson, Axel Scheffler</td>\n",
              "      <td>The Gruffalo</td>\n",
              "    </tr>\n",
              "    <tr>\n",
              "      <th>6701</th>\n",
              "      <td>Graeme Base</td>\n",
              "      <td>Animalia</td>\n",
              "    </tr>\n",
              "    <tr>\n",
              "      <th>6723</th>\n",
              "      <td>Eric Carle</td>\n",
              "      <td>The Mixed-Up Chameleon</td>\n",
              "    </tr>\n",
              "  </tbody>\n",
              "</table>\n",
              "</div>"
            ],
            "text/plain": [
              "                              authors                         title\n",
              "49                   Shel Silverstein       Where the Sidewalk Ends\n",
              "101                    Maurice Sendak     Where the Wild Things Are\n",
              "277                  Shel Silverstein          A Light in the Attic\n",
              "887                  Crockett Johnson  Harold and the Purple Crayon\n",
              "3046                        Dr. Seuss                  Fox in Socks\n",
              "3273                        Dr. Seuss                    Hop On Pop\n",
              "3697            Blanche Fisher Wright         The Real Mother Goose\n",
              "5070  Julia Donaldson, Axel Scheffler                  The Gruffalo\n",
              "6701                      Graeme Base                      Animalia\n",
              "6723                       Eric Carle        The Mixed-Up Chameleon"
            ]
          },
          "execution_count": 29,
          "metadata": {},
          "output_type": "execute_result"
        }
      ],
      "source": [
        "books[books.book_id.isin(nbm_2)][['authors', 'title']]"
      ]
    },
    {
      "cell_type": "markdown",
      "metadata": {
        "id": "FV45_3xhhio7"
      },
      "source": [
        "Сохраним эмбеддинги"
      ]
    },
    {
      "cell_type": "code",
      "execution_count": 30,
      "metadata": {
        "id": "UUk-Xx4Zhio7"
      },
      "outputs": [],
      "source": [
        "with open('item_embeddings.pkl', 'wb') as file:\n",
        "    pickle.dump(item_embeddings, file, protocol=pickle.HIGHEST_PROTOCOL)"
      ]
    },
    {
      "cell_type": "code",
      "execution_count": 31,
      "metadata": {},
      "outputs": [
        {
          "name": "stdout",
          "output_type": "stream",
          "text": [
            "Python 3.8.20\n"
          ]
        }
      ],
      "source": [
        "!python --version"
      ]
    },
    {
      "cell_type": "code",
      "execution_count": 32,
      "metadata": {},
      "outputs": [],
      "source": [
        "# scipy==1.10.1\n",
        "# lightfm==1.17\n",
        "# nmslib==2.1.1"
      ]
    }
  ],
  "metadata": {
    "colab": {
      "provenance": []
    },
    "kernelspec": {
      "display_name": "RecSysOfBooks_3_8_20_venv",
      "language": "python",
      "name": "python3"
    },
    "language_info": {
      "codemirror_mode": {
        "name": "ipython",
        "version": 3
      },
      "file_extension": ".py",
      "mimetype": "text/x-python",
      "name": "python",
      "nbconvert_exporter": "python",
      "pygments_lexer": "ipython3",
      "version": "3.8.20"
    }
  },
  "nbformat": 4,
  "nbformat_minor": 0
}
